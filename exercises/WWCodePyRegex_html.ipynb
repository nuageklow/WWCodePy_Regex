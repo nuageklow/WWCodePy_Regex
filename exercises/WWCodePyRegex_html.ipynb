{
  "nbformat": 4,
  "nbformat_minor": 0,
  "metadata": {
    "colab": {
      "provenance": [],
      "mount_file_id": "13TjhCQEVw9roVVU2r2ZzOoRm0rfjNyV3",
      "authorship_tag": "ABX9TyOctUscdh0Zr2AdQYu248Kq",
      "include_colab_link": true
    },
    "kernelspec": {
      "name": "python3",
      "display_name": "Python 3"
    },
    "language_info": {
      "name": "python"
    }
  },
  "cells": [
    {
      "cell_type": "markdown",
      "metadata": {
        "id": "view-in-github",
        "colab_type": "text"
      },
      "source": [
        "<a href=\"https://colab.research.google.com/github/nuageklow/WWCodePy_regex/blob/master/exercises/WWCodePyRegex_html.ipynb\" target=\"_parent\"><img src=\"https://colab.research.google.com/assets/colab-badge.svg\" alt=\"Open In Colab\"/></a>"
      ]
    },
    {
      "cell_type": "markdown",
      "source": [
        "# Women Who Code Python Regex Study Group Session 4 - Practice I   \n",
        "\n",
        "In this session you will learn to use regex to search contents through a website (html code)"
      ],
      "metadata": {
        "id": "GtgJL9OHLYdM"
      }
    },
    {
      "cell_type": "markdown",
      "source": [
        "## Downloading the data  \n",
        "\n",
        "As colab notebook uses We will be using linux commands to download website contents and verify the content."
      ],
      "metadata": {
        "id": "bAP5hSWMP6Bn"
      }
    },
    {
      "cell_type": "code",
      "execution_count": null,
      "metadata": {
        "id": "eZlWWAgBogST"
      },
      "outputs": [],
      "source": [
        "# use the command curl to download contents from a specific website\n",
        "!curl \"https://en.wikipedia.org/wiki/Python_(programming_language)\" >> website.html"
      ]
    },
    {
      "cell_type": "code",
      "source": [
        "# verify the content of the website\n",
        "!tail -n 5 website.html"
      ],
      "metadata": {
        "id": "oBsNaWouoyU6"
      },
      "execution_count": null,
      "outputs": []
    },
    {
      "cell_type": "markdown",
      "source": [
        "## Search contents with Python Library `re`\n"
      ],
      "metadata": {
        "id": "adp0MPD_PSoL"
      }
    },
    {
      "cell_type": "code",
      "source": [
        "# import python library re\n",
        "import re"
      ],
      "metadata": {
        "id": "U776s3tT3QqN"
      },
      "execution_count": null,
      "outputs": []
    },
    {
      "cell_type": "code",
      "source": [
        "# get data from file\n",
        "\n",
        "\n",
        "# checking out the content by printing first 5 lines\n"
      ],
      "metadata": {
        "id": "Di9MtGHi4J6X"
      },
      "execution_count": null,
      "outputs": []
    },
    {
      "cell_type": "markdown",
      "source": [
        "Example - Searching list content"
      ],
      "metadata": {
        "id": "DQKo0dgVUfGJ"
      }
    },
    {
      "cell_type": "code",
      "source": [
        "# get content from <li> tag\n",
        "# Step 1 - create an empty list \n",
        "\n",
        "\n",
        "# Step 2 - write the regex pattern\n",
        "\n",
        "\n",
        "# Step 3 - for each line of content we find it through regex\n",
        "\n",
        "  \n",
        "  # use function findall to perform searching\n",
        "\n",
        "\n",
        "  # save the result into a list\n",
        "\n",
        "\n",
        "# print the result\n"
      ],
      "metadata": {
        "id": "7LwkF8rVEykF"
      },
      "execution_count": null,
      "outputs": []
    },
    {
      "cell_type": "code",
      "source": [
        "# write the above step as a function\n"
      ],
      "metadata": {
        "id": "zUVv_qRsTMVb"
      },
      "execution_count": null,
      "outputs": []
    },
    {
      "cell_type": "code",
      "source": [
        "# get all types of tag\n",
        "# write pattern\n",
        "\n",
        "\n",
        "# use function written above to look through \n",
        "\n",
        "\n",
        "# get unique list \n"
      ],
      "metadata": {
        "id": "J_02ZIvXGSNr"
      },
      "execution_count": null,
      "outputs": []
    },
    {
      "cell_type": "code",
      "source": [
        "# get website url\n",
        "pattern = \n",
        "result = regex_search(pattern, html_list)\n",
        "print(f'unique result list length {len(result)}')\n",
        "print(result)"
      ],
      "metadata": {
        "id": "XZgRvAsXWv1A"
      },
      "execution_count": null,
      "outputs": []
    },
    {
      "cell_type": "code",
      "source": [
        "# get contents between list\n",
        "pattern = \n",
        "result = regex_search(pattern, html_list)\n",
        "print(f'unique result list length {len(result)}')\n",
        "print(result)"
      ],
      "metadata": {
        "id": "Nmr9P0f2agq-"
      },
      "execution_count": null,
      "outputs": []
    },
    {
      "cell_type": "code",
      "source": [
        "# get all titles\n",
        "pattern = \n",
        "result = regex_search(pattern, html_list)\n",
        "print(f'unique result list length {len(result)}')\n",
        "print(result)"
      ],
      "metadata": {
        "id": "Vo_07XRnb5L4"
      },
      "execution_count": null,
      "outputs": []
    }
  ]
}